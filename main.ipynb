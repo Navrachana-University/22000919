{
 "cells": [
  {
   "cell_type": "markdown",
   "id": "14c0c00c",
   "metadata": {},
   "source": [
    "generate lexer"
   ]
  },
  {
   "cell_type": "code",
   "execution_count": null,
   "id": "5a9f4971",
   "metadata": {},
   "outputs": [],
   "source": [
    "!flex lexer.l"
   ]
  },
  {
   "cell_type": "markdown",
   "id": "6bf52177",
   "metadata": {},
   "source": [
    "generate parser"
   ]
  },
  {
   "cell_type": "code",
   "execution_count": null,
   "id": "a2f31831",
   "metadata": {},
   "outputs": [],
   "source": [
    "!bison -d parser.y"
   ]
  },
  {
   "cell_type": "markdown",
   "id": "80383936",
   "metadata": {},
   "source": [
    "Compile the generated code"
   ]
  },
  {
   "cell_type": "code",
   "execution_count": null,
   "id": "549f7864",
   "metadata": {},
   "outputs": [],
   "source": [
    "!gcc -o compiler.exe lex.yy.c parser.tab.c"
   ]
  },
  {
   "cell_type": "markdown",
   "id": "af675d23",
   "metadata": {},
   "source": [
    "Execute the compiled program"
   ]
  },
  {
   "cell_type": "code",
   "execution_count": null,
   "id": "fdc4e7e4",
   "metadata": {},
   "outputs": [],
   "source": [
    "!type input1.txt | compiler.exe"
   ]
  },
  {
   "cell_type": "markdown",
   "id": "3ed3f50e",
   "metadata": {},
   "source": [
    "Remove the built files (optional)"
   ]
  },
  {
   "cell_type": "code",
   "execution_count": 1,
   "id": "64eee086",
   "metadata": {},
   "outputs": [],
   "source": [
    "import os\n",
    "try:\n",
    "    os.remove(\"lex.yy.c\")\n",
    "except FileNotFoundError:\n",
    "    pass\n",
    "try:\n",
    "    os.remove(\"parser.tab.c\")\n",
    "except FileNotFoundError:\n",
    "    pass\n",
    "try:\n",
    "    os.remove(\"parser.tab.h\")\n",
    "except FileNotFoundError:\n",
    "    pass\n",
    "try:\n",
    "    os.remove(\"compiler.exe\")\n",
    "except FileNotFoundError:\n",
    "    pass\n",
    "try:\n",
    "    os.remove(\"debug.txt\")\n",
    "except FileNotFoundError:\n",
    "    pass\n",
    "try:\n",
    "    os.remove(\"tac.txt\")\n",
    "except FileNotFoundError:\n",
    "    pass"
   ]
  }
 ],
 "metadata": {
  "kernelspec": {
   "display_name": "Python 3",
   "language": "python",
   "name": "python3"
  },
  "language_info": {
   "codemirror_mode": {
    "name": "ipython",
    "version": 3
   },
   "file_extension": ".py",
   "mimetype": "text/x-python",
   "name": "python",
   "nbconvert_exporter": "python",
   "pygments_lexer": "ipython3",
   "version": "3.12.9"
  }
 },
 "nbformat": 4,
 "nbformat_minor": 5
}
